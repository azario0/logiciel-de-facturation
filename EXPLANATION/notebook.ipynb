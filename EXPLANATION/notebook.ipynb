{
 "cells": [
  {
   "cell_type": "markdown",
   "metadata": {},
   "source": [
    "# Creation de la base de donnees"
   ]
  },
  {
   "cell_type": "code",
   "execution_count": 22,
   "metadata": {},
   "outputs": [
    {
     "name": "stdout",
     "output_type": "stream",
     "text": [
      "Database and tables created successfully.\n"
     ]
    },
    {
     "name": "stderr",
     "output_type": "stream",
     "text": [
      "/tmp/ipykernel_19304/3335914113.py:8: MovedIn20Warning: The ``declarative_base()`` function is now available as sqlalchemy.orm.declarative_base(). (deprecated since: 2.0) (Background on SQLAlchemy 2.0 at: https://sqlalche.me/e/b8d9)\n",
      "  Base = declarative_base()\n"
     ]
    }
   ],
   "source": [
    "from sqlalchemy import create_engine, Column, Integer, String, Float, DateTime, ForeignKey\n",
    "from sqlalchemy.ext.declarative import declarative_base\n",
    "from sqlalchemy.orm import relationship, sessionmaker\n",
    "from datetime import datetime\n",
    "\n",
    "# Create an engine and a metadata object\n",
    "engine = create_engine('sqlite:///billing_db.db')\n",
    "Base = declarative_base()\n",
    "\n",
    "# Define the Product class\n",
    "class Product(Base):\n",
    "    __tablename__ = 'products'\n",
    "    id = Column(Integer, primary_key=True)\n",
    "    name = Column(String(100), nullable=False)\n",
    "    price = Column(Float, nullable=False)\n",
    "\n",
    "# Define the Customer class\n",
    "class Customer(Base):\n",
    "    __tablename__ = 'customers'\n",
    "    id = Column(Integer, primary_key=True)\n",
    "    name = Column(String(100), nullable=False)\n",
    "    billings = relationship('Billing', backref='customer', lazy=True, cascade=\"all, delete-orphan\")\n",
    "\n",
    "# Define the Billing class\n",
    "class Billing(Base):\n",
    "    __tablename__ = 'billings'\n",
    "    id = Column(Integer, primary_key=True)\n",
    "    date = Column(DateTime, nullable=False, default=datetime.utcnow)\n",
    "    customer_id = Column(Integer, ForeignKey('customers.id', ondelete='CASCADE'), nullable=False)\n",
    "    items = relationship('BillingItem', backref='billing', lazy=True, cascade=\"all, delete-orphan\")\n",
    "\n",
    "# Define the BillingItem class\n",
    "class BillingItem(Base):\n",
    "    __tablename__ = 'billing_items'\n",
    "    id = Column(Integer, primary_key=True)\n",
    "    billing_id = Column(Integer, ForeignKey('billings.id', ondelete='CASCADE'), nullable=False)\n",
    "    product_id = Column(Integer, ForeignKey('products.id', ondelete='CASCADE'), nullable=False)\n",
    "    quantity = Column(Integer, nullable=False)\n",
    "    product = relationship('Product')\n",
    "\n",
    "# Create the tables\n",
    "Base.metadata.create_all(engine)\n",
    "\n",
    "# Create a configured \"Session\" class\n",
    "Session = sessionmaker(bind=engine)\n",
    "\n",
    "# Create a Session\n",
    "session = Session()\n",
    "\n",
    "# Commit the session\n",
    "session.commit()\n",
    "\n",
    "# Close the session\n",
    "session.close()\n",
    "\n",
    "print(\"Database and tables created successfully.\")\n"
   ]
  },
  {
   "cell_type": "markdown",
   "metadata": {},
   "source": [
    "# Ajout de produits"
   ]
  },
  {
   "cell_type": "code",
   "execution_count": 23,
   "metadata": {},
   "outputs": [
    {
     "name": "stdout",
     "output_type": "stream",
     "text": [
      "Inserted Products: Product 1, Product 2\n"
     ]
    }
   ],
   "source": [
    "# Insert new products\n",
    "product1 = Product(name='Product 1', price=10.99)\n",
    "product2 = Product(name='Product 2', price=20.99)\n",
    "session.add_all([product1, product2])\n",
    "session.commit()\n",
    "print(f\"Inserted Products: {product1.name}, {product2.name}\")"
   ]
  },
  {
   "cell_type": "markdown",
   "metadata": {},
   "source": [
    "# Ajout d'un client"
   ]
  },
  {
   "cell_type": "code",
   "execution_count": 24,
   "metadata": {},
   "outputs": [
    {
     "name": "stdout",
     "output_type": "stream",
     "text": [
      "Inserted Customer: azar\n"
     ]
    }
   ],
   "source": [
    "# Create a new customer\n",
    "new_customer = Customer(name='azar')\n",
    "\n",
    "# Add the new customer to the session\n",
    "session.add(new_customer)\n",
    "\n",
    "# Commit the transaction\n",
    "session.commit()\n",
    "\n",
    "print(f\"Inserted Customer: {new_customer.name}\")\n"
   ]
  },
  {
   "cell_type": "markdown",
   "metadata": {},
   "source": [
    "# Creation d'une nouvelle facture pour le client"
   ]
  },
  {
   "cell_type": "code",
   "execution_count": 25,
   "metadata": {},
   "outputs": [
    {
     "name": "stdout",
     "output_type": "stream",
     "text": [
      "Inserted Billing for Customer: azar\n"
     ]
    }
   ],
   "source": [
    "# Create a new billing for the customer\n",
    "new_billing = Billing(customer_id=new_customer.id)\n",
    "session.add(new_billing)\n",
    "session.commit()\n",
    "print(f\"Inserted Billing for Customer: {new_customer.name}\")"
   ]
  },
  {
   "cell_type": "markdown",
   "metadata": {},
   "source": [
    "# Ajout de produit a la facture du client"
   ]
  },
  {
   "cell_type": "code",
   "execution_count": 26,
   "metadata": {},
   "outputs": [
    {
     "name": "stdout",
     "output_type": "stream",
     "text": [
      "Inserted Billing Items\n"
     ]
    }
   ],
   "source": [
    "# Add billing items for the customer\n",
    "billing_item1 = BillingItem(billing_id=new_billing.id, product_id=product1.id, quantity=2)\n",
    "billing_item2 = BillingItem(billing_id=new_billing.id, product_id=product2.id, quantity=1)\n",
    "session.add_all([billing_item1, billing_item2])\n",
    "session.commit()\n",
    "print(\"Inserted Billing Items\")"
   ]
  },
  {
   "cell_type": "markdown",
   "metadata": {},
   "source": [
    "# Obtention des factures du client"
   ]
  },
  {
   "cell_type": "code",
   "execution_count": 27,
   "metadata": {},
   "outputs": [
    {
     "name": "stdout",
     "output_type": "stream",
     "text": [
      "Billing items for customer: azar\n",
      "Billing ID: 1, Date: 2024-07-09 19:50:34.252755\n",
      "  Product: Product 1, Quantity: 2\n",
      "  Product: Product 2, Quantity: 1\n"
     ]
    }
   ],
   "source": [
    "def get_billing_items_by_customer_id(customer_id):\n",
    "    customer = session.query(Customer).filter_by(id=customer_id).first()\n",
    "    if customer:\n",
    "        print(f\"Billing items for customer: {customer.name}\")\n",
    "        for billing in customer.billings:\n",
    "            print(f\"Billing ID: {billing.id}, Date: {billing.date}\")\n",
    "            for item in billing.items:\n",
    "                product = session.query(Product).filter_by(id=item.product_id).first()\n",
    "                print(f\"  Product: {product.name}, Quantity: {item.quantity}\")\n",
    "    else:\n",
    "        print(\"Customer not found\")\n",
    "\n",
    "# Example usage:\n",
    "customer_id = 1  # Replace with the actual customer ID\n",
    "get_billing_items_by_customer_id(customer_id)\n"
   ]
  },
  {
   "cell_type": "code",
   "execution_count": null,
   "metadata": {},
   "outputs": [],
   "source": []
  }
 ],
 "metadata": {
  "kernelspec": {
   "display_name": "Python 3",
   "language": "python",
   "name": "python3"
  },
  "language_info": {
   "codemirror_mode": {
    "name": "ipython",
    "version": 3
   },
   "file_extension": ".py",
   "mimetype": "text/x-python",
   "name": "python",
   "nbconvert_exporter": "python",
   "pygments_lexer": "ipython3",
   "version": "3.10.12"
  }
 },
 "nbformat": 4,
 "nbformat_minor": 2
}
